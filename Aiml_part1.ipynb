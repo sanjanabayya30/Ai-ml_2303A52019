{
  "nbformat": 4,
  "nbformat_minor": 0,
  "metadata": {
    "colab": {
      "provenance": [],
      "authorship_tag": "ABX9TyPWx2/brop68XIlMn9OxQtT",
      "include_colab_link": true
    },
    "kernelspec": {
      "name": "python3",
      "display_name": "Python 3"
    },
    "language_info": {
      "name": "python"
    }
  },
  "cells": [
    {
      "cell_type": "markdown",
      "metadata": {
        "id": "view-in-github",
        "colab_type": "text"
      },
      "source": [
        "<a href=\"https://colab.research.google.com/github/sanjanabayya30/Ai-ml_2303A52019/blob/main/Aiml_part1.ipynb\" target=\"_parent\"><img src=\"https://colab.research.google.com/assets/colab-badge.svg\" alt=\"Open In Colab\"/></a>"
      ]
    },
    {
      "cell_type": "code",
      "source": [
        "import numpy as np\n",
        "mylist = [\"apple\",\"mango\",\"grapes\",\"banana\"]\n",
        "print(mylist)"
      ],
      "metadata": {
        "colab": {
          "base_uri": "https://localhost:8080/"
        },
        "id": "wSw2jILKOCNY",
        "outputId": "756be1b9-6dab-477f-a7e8-079df8f4f550"
      },
      "execution_count": null,
      "outputs": [
        {
          "output_type": "stream",
          "name": "stdout",
          "text": [
            "['apple', 'mango', 'grapes', 'banana']\n"
          ]
        }
      ]
    },
    {
      "cell_type": "code",
      "source": [
        "import numpy as np\n",
        "arr = [\"blue\",\"black\",\"pink\",\"red\"]\n",
        "print(arr)\n",
        "print(arr[2])"
      ],
      "metadata": {
        "colab": {
          "base_uri": "https://localhost:8080/"
        },
        "id": "4YKjNUYeO5G2",
        "outputId": "da7e79fa-43e3-4cfe-f9b0-395680c2414a"
      },
      "execution_count": null,
      "outputs": [
        {
          "output_type": "stream",
          "name": "stdout",
          "text": [
            "['blue', 'black', 'pink', 'red']\n",
            "pink\n"
          ]
        }
      ]
    },
    {
      "cell_type": "code",
      "source": [
        "import numpy\n",
        "a = numpy.array([1,2,3,4,5])\n",
        "print(a)\n",
        "print(type(a))\n"
      ],
      "metadata": {
        "colab": {
          "base_uri": "https://localhost:8080/"
        },
        "id": "AAnig_34P_L_",
        "outputId": "3be67461-2b2b-479f-9251-02028ec88ce6"
      },
      "execution_count": null,
      "outputs": [
        {
          "output_type": "stream",
          "name": "stdout",
          "text": [
            "[1 2 3 4 5]\n",
            "<class 'numpy.ndarray'>\n"
          ]
        }
      ]
    },
    {
      "cell_type": "code",
      "source": [
        "import numpy as np\n",
        "a = pow(9,3)\n",
        "print(a)"
      ],
      "metadata": {
        "colab": {
          "base_uri": "https://localhost:8080/"
        },
        "id": "arJxn6PNV8Xn",
        "outputId": "333113a2-ebdd-454d-8a77-626063948242"
      },
      "execution_count": null,
      "outputs": [
        {
          "output_type": "stream",
          "name": "stdout",
          "text": [
            "729\n"
          ]
        }
      ]
    },
    {
      "cell_type": "code",
      "source": [
        "import numpy as np\n",
        "arr1 = (1,2,3,4)\n",
        "arr2 = (4,5,6,7)\n",
        "arr3 = arr1+arr2\n",
        "print(arr3)"
      ],
      "metadata": {
        "colab": {
          "base_uri": "https://localhost:8080/"
        },
        "id": "FTaC7bj7XT8j",
        "outputId": "4d16b8cf-d0e9-41f3-ef21-d5ddd8aef5f4"
      },
      "execution_count": null,
      "outputs": [
        {
          "output_type": "stream",
          "name": "stdout",
          "text": [
            "(1, 2, 3, 4, 4, 5, 6, 7)\n"
          ]
        }
      ]
    },
    {
      "cell_type": "code",
      "source": [
        "import math\n",
        "print(math.log(2))"
      ],
      "metadata": {
        "colab": {
          "base_uri": "https://localhost:8080/"
        },
        "id": "70vaFhbvYyF_",
        "outputId": "4a16feb2-25bf-4ec7-9019-f4a9e9ad4798"
      },
      "execution_count": null,
      "outputs": [
        {
          "output_type": "stream",
          "name": "stdout",
          "text": [
            "0.6931471805599453\n"
          ]
        }
      ]
    },
    {
      "cell_type": "code",
      "source": [
        "import math\n",
        "print(math.sin(math.radians(90)))"
      ],
      "metadata": {
        "colab": {
          "base_uri": "https://localhost:8080/"
        },
        "id": "wN6oBmdgY_ys",
        "outputId": "eaea61f1-4c2a-4454-b24e-904a042fe771"
      },
      "execution_count": null,
      "outputs": [
        {
          "output_type": "stream",
          "name": "stdout",
          "text": [
            "1.0\n"
          ]
        }
      ]
    },
    {
      "cell_type": "code",
      "source": [
        "import math\n",
        "print(math.exp(2))"
      ],
      "metadata": {
        "colab": {
          "base_uri": "https://localhost:8080/"
        },
        "id": "ltDQkKf9ZMLJ",
        "outputId": "fd0c3ea5-0672-4f34-c60c-d3725b9376b6"
      },
      "execution_count": null,
      "outputs": [
        {
          "output_type": "stream",
          "name": "stdout",
          "text": [
            "7.38905609893065\n"
          ]
        }
      ]
    },
    {
      "cell_type": "code",
      "source": [
        "import math\n",
        "print(math.log2(2))"
      ],
      "metadata": {
        "colab": {
          "base_uri": "https://localhost:8080/"
        },
        "id": "UjiivSMfZe-E",
        "outputId": "5746e453-8c25-4e6f-8496-e71861c70a57"
      },
      "execution_count": null,
      "outputs": [
        {
          "output_type": "stream",
          "name": "stdout",
          "text": [
            "1.0\n"
          ]
        }
      ]
    },
    {
      "cell_type": "code",
      "source": [
        "import pandas as pd\n",
        "import matplotlib.pyplot as plt\n",
        "data = {\n",
        "    \"Name\": [\"Kiran\", \"Arun\", \"Vijay\", \"Varun\"],\n",
        "    \"Age\": [25, 30, 35, 40],\n",
        "    \"Height (cm)\": [145, 151, 165, 173],\n",
        "    \"Weight (kg)\": [45, 55, 65, 75]\n",
        "}\n",
        "\n",
        "df = pd.DataFrame(data)\n",
        "\n",
        "\n",
        "plt.figure(figsize=(8, 6))\n",
        "plt.scatter(df[\"Age\"], df[\"Weight (kg)\"])\n",
        "plt.title(\"Relationship between Age and Weight\")\n",
        "plt.xlabel(\"Age (years)\")\n",
        "plt.ylabel(\"Weight (kg)\")\n",
        "plt.show()\n"
      ],
      "metadata": {
        "colab": {
          "base_uri": "https://localhost:8080/",
          "height": 564
        },
        "id": "dab2wARLmhjs",
        "outputId": "4709a868-15ed-4a7b-b561-d41f51d2abd0"
      },
      "execution_count": null,
      "outputs": [
        {
          "output_type": "display_data",
          "data": {
            "text/plain": [
              "<Figure size 800x600 with 1 Axes>"
            ],
            "image/png": "[encoded data removed]"
          },
          "metadata": {}
        }
      ]
    },
    {
      "cell_type": "code",
      "source": [
        "import pandas as pd\n",
        "import matplotlib.pyplot as plt\n",
        "data = {\n",
        "    \"Name\": [\"Kiran\", \"Arun\", \"Vijay\", \"Varun\"],\n",
        "    \"Age\": [25, 30, 35, 40],\n",
        "    \"Height (cm)\": [145, 151, 165, 173],\n",
        "    \"Weight (kg)\": [45, 55, 65, 75]\n",
        "}\n",
        "df = pd.DataFrame(data)\n",
        "plt.figure(figsize=(8, 6))\n",
        "plt.bar(df[\"Name\"], df[\"Height (cm)\"])\n",
        "plt.title(\"Height Comparison among Individuals\")\n",
        "plt.xlabel(\"Name\")\n",
        "plt.ylabel(\"Height (cm)\")\n",
        "plt.show()\n"
      ],
      "metadata": {
        "colab": {
          "base_uri": "https://localhost:8080/",
          "height": 564
        },
        "id": "Q6y67qIMnSnC",
        "outputId": "7ba67b9a-19f2-4fde-a123-75cd19a5f012"
      },
      "execution_count": null,
      "outputs": [
        {
          "output_type": "display_data",
          "data": {
            "text/plain": [
              "<Figure size 800x600 with 1 Axes>"
            ],
            "image/png": "[encoded data removed]"
          },
          "metadata": {}
        }
      ]
    },
    {
      "cell_type": "code",
      "source": [
        "import pandas as pd\n",
        "import matplotlib.pyplot as plt\n",
        "data = {\n",
        "    \"Name\": [\"Kiran\", \"Arun\", \"Vijay\", \"Varun\"],\n",
        "    \"Age\": [25, 30, 35, 40],\n",
        "    \"Height (cm)\": [145, 151, 165, 173],\n",
        "    \"Weight (kg)\": [45, 55, 65, 75]\n",
        "}\n",
        "\n",
        "df = pd.DataFrame(data)\n",
        "\n",
        "plt.figure(figsize=(8, 6))\n",
        "plt.hist(df[\"Weight (kg)\"], bins=5)\n",
        "plt.title(\"Weight Distribution\")\n",
        "plt.xlabel(\"Weight (kg)\")\n",
        "plt.ylabel(\"Frequency\")\n",
        "plt.show()\n"
      ],
      "metadata": {
        "colab": {
          "base_uri": "https://localhost:8080/",
          "height": 564
        },
        "id": "cbqiMg6Enu1q",
        "outputId": "9075cc06-23b8-4001-a8d1-bf05283104ea"
      },
      "execution_count": null,
      "outputs": [
        {
          "output_type": "display_data",
          "data": {
            "text/plain": [
              "<Figure size 800x600 with 1 Axes>"
            ],
            "image/png": "[encoded data removed]"
          },
          "metadata": {}
        }
      ]
    },
    {
      "cell_type": "code",
      "source": [
        "from google.colab import drive\n",
        "drive.mount('/content/drive')"
      ],
      "metadata": {
        "colab": {
          "base_uri": "https://localhost:8080/"
        },
        "id": "5mrpTdd4Z-ly",
        "outputId": "92b24df5-14c8-44e6-e9d6-85fc7b39b503"
      },
      "execution_count": null,
      "outputs": [
        {
          "output_type": "stream",
          "name": "stdout",
          "text": [
            "Mounted at /content/drive\n"
          ]
        }
      ]
    },
    {
      "cell_type": "code",
      "source": [],
      "metadata": {
        "id": "nx23edKpbV3B"
      },
      "execution_count": null,
      "outputs": []
    }
  ]
}